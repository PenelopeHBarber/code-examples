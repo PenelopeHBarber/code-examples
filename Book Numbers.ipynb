{
 "cells": [
  {
   "cell_type": "code",
   "execution_count": 10,
   "metadata": {},
   "outputs": [
    {
     "name": "stdout",
     "output_type": "stream",
     "text": [
      "9780316066525  Valid ISBN13\n",
      "9780316066526  Invalid ISBN13\n",
      "033030162X    Invalid ISBN10\n",
      "0330301624    valid ISBN10 now convert to 13\n",
      "9840330301624  Invalid ISBN13\n"
     ]
    }
   ],
   "source": [
    "def isbn13(number):\n",
    "    if len(number)>10:\n",
    "        check13(number)\n",
    "    else:\n",
    "        #if check 10 is valid, convert to 13 and return value\n",
    "        check10(number)\n",
    "\n",
    "isbn13(\"9780316066525\")\n",
    "isbn13(\"9780316066526\")\n",
    "isbn13(\"033030162X\")\n",
    "isbn13(\"0330301624\")\n"
   ]
  },
  {
   "cell_type": "code",
   "execution_count": 3,
   "metadata": {},
   "outputs": [
    {
     "name": "stdout",
     "output_type": "stream",
     "text": [
      "1234567891234  Invalid ISBN13\n"
     ]
    }
   ],
   "source": [
    "def check13(number):\n",
    "    result = 0\n",
    "        \n",
    "    for i in range(0,13):\n",
    "        if i%2==0:\n",
    "            result += int(number[i])*1\n",
    "        else:\n",
    "            result += int(number[i])*3\n",
    "    if result%10==0:\n",
    "        print(number, \" Valid ISBN13\")\n",
    "    else: \n",
    "        print(number, \" Invalid ISBN13\")    \n",
    "\n",
    "check13(\"1234567891234\")\n"
   ]
  },
  {
   "cell_type": "code",
   "execution_count": 6,
   "metadata": {},
   "outputs": [],
   "source": [
    "def check10(number):\n",
    "    result = 0\n",
    "    for i in range(0,10):\n",
    "        #CHECK IF THE LAST DIGIT IS AN X AND CHANGE THE VALUE TO 10\n",
    "        if str.lower(number[i])==\"x\":\n",
    "            result+= 10*(10-i)\n",
    "        else:\n",
    "            result += int(number[i])*(10-i)\n",
    "    \n",
    "    #CHECK IF RESULT IS DIVISIBLE BY 11\n",
    "    if result % 11 == 0:\n",
    "        print(number, \"   valid ISBN10 now convert to 13\")\n",
    "        #CONVERT NUMBER TO 13 DIGITS\n",
    "        convert = \"984\"+ number\n",
    "        #now run this through the check13\n",
    "        check13(convert)\n",
    "        #then change last digit so that the remainder of result is 0\n",
    "    else:\n",
    "        print(number, \"   Invalid ISBN10\")\n",
    "        \n"
   ]
  },
  {
   "cell_type": "code",
   "execution_count": null,
   "metadata": {},
   "outputs": [],
   "source": []
  },
  {
   "cell_type": "code",
   "execution_count": null,
   "metadata": {},
   "outputs": [],
   "source": []
  },
  {
   "cell_type": "code",
   "execution_count": null,
   "metadata": {},
   "outputs": [],
   "source": []
  },
  {
   "cell_type": "code",
   "execution_count": null,
   "metadata": {},
   "outputs": [],
   "source": []
  }
 ],
 "metadata": {
  "kernelspec": {
   "display_name": "Python 3",
   "language": "python",
   "name": "python3"
  },
  "language_info": {
   "codemirror_mode": {
    "name": "ipython",
    "version": 3
   },
   "file_extension": ".py",
   "mimetype": "text/x-python",
   "name": "python",
   "nbconvert_exporter": "python",
   "pygments_lexer": "ipython3",
   "version": "3.7.4"
  }
 },
 "nbformat": 4,
 "nbformat_minor": 2
}
